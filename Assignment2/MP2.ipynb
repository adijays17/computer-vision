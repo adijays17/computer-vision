{
 "cells": [
  {
   "cell_type": "markdown",
   "metadata": {},
   "source": [
    "<h1>MP2</h1>\n",
    "<h4> Submitted by: \n",
    "    <br>\n",
    "    Aditya Kumar\n",
    "    <br>\n",
    "     NETID: AKE9173</h4>"
   ]
  },
  {
   "cell_type": "code",
   "execution_count": 1,
   "metadata": {},
   "outputs": [],
   "source": [
    "import cv2\n",
    "import numpy as np"
   ]
  },
  {
   "cell_type": "markdown",
   "metadata": {},
   "source": [
    "<h4>Erosion: The kernel slides through the image (as in 2D convolution). A pixel in the original image (either 1 or 0) will be considered 1 only if all the pixels under the kernel is 1, otherwise it is eroded (made to zero).</h4>"
   ]
  },
  {
   "cell_type": "code",
   "execution_count": 113,
   "metadata": {},
   "outputs": [],
   "source": [
    "def erosion(img_in, SE):\n",
    "    res = np.zeros_like(img_in)\n",
    "    SE_height = SE.shape[0]    \n",
    "    SE_width = SE.shape[1]\n",
    "    \n",
    "    for i in range(0,img_in.shape[0]-SE_height+1):\n",
    "        for j in range(0,img_in.shape[1]-SE_width+1):\n",
    "            if np.array_equal(img_in[i:i+SE_height, j:j+SE_width]&SE, SE):\n",
    "                res[i,j]=1\n",
    "    \n",
    "    return res"
   ]
  },
  {
   "cell_type": "markdown",
   "metadata": {},
   "source": [
    "<h4>Dilation: It is just opposite of erosion. Here, a pixel element is ‘1’ if atleast one pixel under the kernel is ‘1’. So it increases the white region in the image or size of foreground object increases.</h4>"
   ]
  },
  {
   "cell_type": "code",
   "execution_count": 114,
   "metadata": {},
   "outputs": [],
   "source": [
    "def dilation(img_in, SE):\n",
    "    res = np.zeros_like(img_in)\n",
    "    SE_height = SE.shape[0]    \n",
    "    SE_width = SE.shape[1]\n",
    "    for i in range(0, img_in.shape[0]-SE_height+1):\n",
    "        for j in range(0,img_in.shape[1]-SE_width+1):\n",
    "            if img_in[i, j]:\n",
    "                res[i:i+SE_height,j:j+SE_width]=SE\n",
    "    return res"
   ]
  },
  {
   "cell_type": "markdown",
   "metadata": {},
   "source": [
    "<h4>Opening: Opening is just another name of erosion followed by dilation. It is useful in removing noise</h4>"
   ]
  },
  {
   "cell_type": "code",
   "execution_count": 115,
   "metadata": {},
   "outputs": [],
   "source": [
    "def opening(img_in, SE):\n",
    "    return dilation(erosion(img_in, SE), SE)"
   ]
  },
  {
   "cell_type": "markdown",
   "metadata": {},
   "source": [
    "<h4>Closing: Closing is reverse of Opening, Dilation followed by Erosion. It is useful in closing small holes inside the foreground objects, or small black points on the object.</h4>"
   ]
  },
  {
   "cell_type": "code",
   "execution_count": 116,
   "metadata": {},
   "outputs": [],
   "source": [
    "def closing(img_in, SE):\n",
    "    return erosion(dilation(img_in, SE), SE)"
   ]
  },
  {
   "cell_type": "markdown",
   "metadata": {},
   "source": [
    "<h4>Boundary: It is the difference between dilation and closing of an image.</h4>"
   ]
  },
  {
   "cell_type": "code",
   "execution_count": 121,
   "metadata": {},
   "outputs": [],
   "source": [
    "def boundary(img_in, SE):\n",
    "    return (dilation(img_in, SE) - closing(img_in, SE))*255"
   ]
  },
  {
   "cell_type": "markdown",
   "metadata": {},
   "source": [
    "<h4>Main function to perform dilation, erosion, opening, closing and boundary</h4>"
   ]
  },
  {
   "cell_type": "code",
   "execution_count": 122,
   "metadata": {},
   "outputs": [],
   "source": [
    "def perform_all(image_name):\n",
    "    image = cv2.imread(image_name, 0)\n",
    "    np.set_printoptions(threshold=np.inf)\n",
    "    SE = np.ones((3, 3), np.uint8)\n",
    "\n",
    "    dilation_image = dilation(image, SE)*255\n",
    "    cv2.imwrite(\"dilation_image_\" + image_name, dilation_image)\n",
    "    eroded_image = erosion(image, np.ones((2, 2), np.uint8))*255\n",
    "    cv2.imwrite(\"eroded_image_\" + image_name, eroded_image)\n",
    "    opened_image = opening(image, SE)*255\n",
    "    cv2.imwrite(\"opened_image_\" + image_name, opened_image)\n",
    "    closed_image = closing(image, SE)*255\n",
    "    cv2.imwrite(\"closed_image_\" + image_name, closed_image)\n",
    "    boundary_image = boundary(image, SE)\n",
    "    cv2.imwrite(\"boundary_image_\" + image_name, boundary_image)"
   ]
  },
  {
   "cell_type": "code",
   "execution_count": 123,
   "metadata": {},
   "outputs": [],
   "source": [
    "perform_all('gun.bmp')"
   ]
  },
  {
   "cell_type": "code",
   "execution_count": 124,
   "metadata": {},
   "outputs": [],
   "source": [
    "perform_all('palm.bmp')"
   ]
  },
  {
   "cell_type": "code",
   "execution_count": null,
   "metadata": {},
   "outputs": [],
   "source": []
  },
  {
   "cell_type": "code",
   "execution_count": null,
   "metadata": {},
   "outputs": [],
   "source": []
  },
  {
   "cell_type": "code",
   "execution_count": null,
   "metadata": {},
   "outputs": [],
   "source": []
  }
 ],
 "metadata": {
  "kernelspec": {
   "display_name": "Python 3",
   "language": "python",
   "name": "python3"
  },
  "language_info": {
   "codemirror_mode": {
    "name": "ipython",
    "version": 3
   },
   "file_extension": ".py",
   "mimetype": "text/x-python",
   "name": "python",
   "nbconvert_exporter": "python",
   "pygments_lexer": "ipython3",
   "version": "3.7.3"
  }
 },
 "nbformat": 4,
 "nbformat_minor": 2
}
