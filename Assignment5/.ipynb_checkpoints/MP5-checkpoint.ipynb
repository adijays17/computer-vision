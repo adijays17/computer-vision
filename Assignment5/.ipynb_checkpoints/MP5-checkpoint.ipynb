{
 "cells": [
  {
   "cell_type": "markdown",
   "metadata": {},
   "source": [
    "<h1>MP5</h1>\n",
    "<h4> Submitted by: \n",
    "    <br>\n",
    "    Aditya Kumar\n",
    "    <br>\n",
    "     NETID: AKE9173</h4>"
   ]
  },
  {
   "cell_type": "code",
   "execution_count": 1,
   "metadata": {},
   "outputs": [],
   "source": [
    "import numpy as np \n",
    "import cv2\n",
    "from scipy import ndimage, signal"
   ]
  },
  {
   "cell_type": "code",
   "execution_count": 2,
   "metadata": {},
   "outputs": [],
   "source": [
    "def gaussian_smoothing(I, N, sigma=1):\n",
    "    N = int(N) // 2\n",
    "    x, y = np.mgrid[-N:N+1, -N:N+1]\n",
    "    normal = 1 / (2.0 * np.pi * sigma**2)\n",
    "    g =  np.exp(-((x**2 + y**2) / (2.0*sigma**2))) * normal\n",
    "    return signal.convolve2d(I, g, mode = 'same')"
   ]
  },
  {
   "cell_type": "code",
   "execution_count": 3,
   "metadata": {},
   "outputs": [],
   "source": [
    "def image_gradient(img):\n",
    "    #Sobel Filters\n",
    "    Kx = np.array([[-1, 0, 1], [-2, 0, 2], [-1, 0, 1]], np.float32)\n",
    "    Ky = np.array([[1, 2, 1], [0, 0, 0], [-1, -2, -1]], np.float32)    \n",
    "    \n",
    "    Ix = ndimage.filters.convolve(img, Kx)\n",
    "    Iy = ndimage.filters.convolve(img, Ky)\n",
    "    \n",
    "    G = np.hypot(Ix, Iy)\n",
    "    G = G / G.max() * 255\n",
    "    theta = np.arctan2(Iy, Ix)\n",
    "    \n",
    "    return G, theta"
   ]
  },
  {
   "cell_type": "code",
   "execution_count": 4,
   "metadata": {},
   "outputs": [],
   "source": [
    "def find_threshold(mag, percentageOfNonEdge):\n",
    "    d = {}\n",
    "    for i in range(len(mag)):\n",
    "        for j in range(len(mag[i])):\n",
    "            val = int(round(mag[i][j] / 255.00 * 100))\n",
    "            if val in d:\n",
    "                d[val] += 1\n",
    "            else:\n",
    "                d[val] = 1\n",
    "    cs = 0\n",
    "    for key in d:\n",
    "        cs += d[key]\n",
    "        if cs > len(mag) * len(mag[0]) * percentageOfNonEdge:\n",
    "            temp = key\n",
    "            break\n",
    "    t_high = temp / (100.0) \n",
    "    t_low = t_high * .5\n",
    "    return t_low, t_high"
   ]
  },
  {
   "cell_type": "code",
   "execution_count": 5,
   "metadata": {},
   "outputs": [],
   "source": [
    "def non_max_suppression(mag, D):\n",
    "    M, N = mag.shape\n",
    "    out_mag = np.zeros((M,N), dtype=np.int32)\n",
    "    angle = D * 180. / np.pi\n",
    "    angle[angle < 0] += 180\n",
    "    \n",
    "    for i in range(1,M-1):\n",
    "        for j in range(1,N-1):\n",
    "            try:\n",
    "                q = 255\n",
    "                r = 255\n",
    "                if (0 <= angle[i,j] < 22.5) or (157.5 <= angle[i,j] <= 180):\n",
    "                    q = mag[i, j+1]\n",
    "                    r = mag[i, j-1]\n",
    "                elif (22.5 <= angle[i,j] < 67.5):\n",
    "                    q = mag[i+1, j-1]\n",
    "                    r = mag[i-1, j+1]\n",
    "                elif (67.5 <= angle[i,j] < 112.5):\n",
    "                    q = mag[i+1, j]\n",
    "                    r = mag[i-1, j]\n",
    "                elif (112.5 <= angle[i,j] < 157.5):\n",
    "                    q = mag[i-1, j-1]\n",
    "                    r = mag[i+1, j+1]\n",
    "\n",
    "                if (mag[i,j] >= q) and (mag[i,j] >= r):\n",
    "                    out_mag[i,j] = mag[i,j]\n",
    "                else:\n",
    "                    out_mag[i,j] = 0\n",
    "\n",
    "            except IndexError as e:\n",
    "                pass\n",
    "    \n",
    "    return out_mag"
   ]
  },
  {
   "cell_type": "code",
   "execution_count": 6,
   "metadata": {},
   "outputs": [],
   "source": [
    "def thresholding(img, lowThresholdRatio, highThresholdRatio):\n",
    "    \n",
    "    highThreshold = img.max() * highThresholdRatio;\n",
    "    lowThreshold = highThreshold * lowThresholdRatio;\n",
    "    \n",
    "    M, N = img.shape\n",
    "    res = np.zeros((M,N), dtype=np.int32)\n",
    "    \n",
    "    weak = np.int32(25)\n",
    "    strong = np.int32(255)\n",
    "    \n",
    "    strong_i, strong_j = np.where(img >= highThreshold)\n",
    "    zeros_i, zeros_j = np.where(img < lowThreshold)\n",
    "    \n",
    "    weak_i, weak_j = np.where((img <= highThreshold) & (img >= lowThreshold))\n",
    "    \n",
    "    res[strong_i, strong_j] = strong\n",
    "    res[weak_i, weak_j] = weak\n",
    "    \n",
    "    return res, weak, strong"
   ]
  },
  {
   "cell_type": "code",
   "execution_count": 7,
   "metadata": {},
   "outputs": [],
   "source": [
    "def edge_linking(img, weak, strong=255):\n",
    "    M, N = img.shape  \n",
    "    for i in range(1, M-1):\n",
    "        for j in range(1, N-1):\n",
    "            if (img[i,j] == weak):\n",
    "                try:\n",
    "                    if ((img[i+1, j-1] == strong) or (img[i+1, j] == strong) or (img[i+1, j+1] == strong)\n",
    "                        or (img[i, j-1] == strong) or (img[i, j+1] == strong)\n",
    "                        or (img[i-1, j-1] == strong) or (img[i-1, j] == strong) or (img[i-1, j+1] == strong)):\n",
    "                        img[i, j] = strong\n",
    "                    else:\n",
    "                        img[i, j] = 0\n",
    "                except IndexError as e:\n",
    "                    pass\n",
    "    return img"
   ]
  },
  {
   "cell_type": "code",
   "execution_count": 8,
   "metadata": {},
   "outputs": [],
   "source": [
    "def canny_edge_detector(file_name, threshold_param):\n",
    "    img = cv2.imread(file_name, cv2.IMREAD_GRAYSCALE)\n",
    "    new_arr = gaussian_smoothing(img, 3)\n",
    "    cv2.imwrite('gauss_'+file_name, new_arr)\n",
    "\n",
    "    mag, theta = image_gradient(new_arr)\n",
    "    cv2.imwrite('gradient_'+file_name, mag)\n",
    "\n",
    "    t_low, t_high = find_threshold(mag, threshold_param)\n",
    "    gmax = non_max_suppression(mag, theta)\n",
    "    cv2.imwrite('max_suppression_'+file_name, gmax)\n",
    "\n",
    "    thres, weak, strong = thresholding(gmax, t_low, t_high)\n",
    "    cv2.imwrite('thresholding_'+file_name, thres)\n",
    "\n",
    "    out = edge_linking(thres, weak, strong)\n",
    "    cv2.imwrite('after_edge_linking_'+file_name, out)"
   ]
  },
  {
   "cell_type": "code",
   "execution_count": 9,
   "metadata": {},
   "outputs": [],
   "source": [
    "canny_edge_detector('lena.bmp', 0.15)\n",
    "canny_edge_detector('joy1.bmp', 0.15)\n",
    "canny_edge_detector('test1.bmp', 0.9)\n",
    "canny_edge_detector('pointer1.bmp', 0.15)"
   ]
  },
  {
   "cell_type": "code",
   "execution_count": null,
   "metadata": {},
   "outputs": [],
   "source": []
  }
 ],
 "metadata": {
  "kernelspec": {
   "display_name": "Python 3",
   "language": "python",
   "name": "python3"
  },
  "language_info": {
   "codemirror_mode": {
    "name": "ipython",
    "version": 3
   },
   "file_extension": ".py",
   "mimetype": "text/x-python",
   "name": "python",
   "nbconvert_exporter": "python",
   "pygments_lexer": "ipython3",
   "version": "3.7.3"
  }
 },
 "nbformat": 4,
 "nbformat_minor": 2
}
