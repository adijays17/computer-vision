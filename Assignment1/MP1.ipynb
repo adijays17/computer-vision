{
 "cells": [
  {
   "cell_type": "markdown",
   "metadata": {},
   "source": [
    "<h1>MP1</h1>\n",
    "<h4> Submitted by: \n",
    "    <br>\n",
    "    Aditya Kumar\n",
    "    <br>\n",
    "     NETID: AKE9173</h4>"
   ]
  },
  {
   "cell_type": "markdown",
   "metadata": {},
   "source": [
    "<h4>Import numpy and opencv packages</h4>"
   ]
  },
  {
   "cell_type": "code",
   "execution_count": 1,
   "metadata": {},
   "outputs": [],
   "source": [
    "import numpy as np\n",
    "import cv2"
   ]
  },
  {
   "cell_type": "markdown",
   "metadata": {},
   "source": [
    "<h4>Below function perform connected component labeling using the algorithm \"sequential solution to CCL\" described by the professor in the class. </h4>\n",
    "<ul>Argument: It takes a image matrix as an argument</ul>\n",
    "<ul>return: It return two values. First one is a matrix marked with label as int values. Second one is an equivalence table where mapping of all connected labels are kept. </ul>"
   ]
  },
  {
   "cell_type": "code",
   "execution_count": 2,
   "metadata": {},
   "outputs": [],
   "source": [
    "def perform_CCL(image):\n",
    "    def find_label(r, c, labels, is_up):\n",
    "        if is_up:\n",
    "            l = 0 if r - 1 < 0 else labels[r - 1][c]\n",
    "        else:\n",
    "            l = 0 if c - 1 < 0 else labels[r][c - 1]\n",
    "        return l\n",
    "    \n",
    "    height, width = image.shape\n",
    "    labels = []\n",
    "    e_table = {}\n",
    "    count = 1\n",
    "    for row in range(height):\n",
    "        labels.append([])\n",
    "        for col in range(width):\n",
    "            if image[row, col] == 0:\n",
    "                labels[row].append(0)\n",
    "            else:\n",
    "                up = find_label(row, col, labels, True)\n",
    "                left = find_label(row, col, labels, False)\n",
    "                if up == left and up != 0 and left != 0:\n",
    "                    labels[row].append(up)\n",
    "                elif up != left and (up==0 or left==0):\n",
    "                    labels[row].append(max(up, left))\n",
    "                elif up != left and up > 0 and left > 0:\n",
    "                    labels[row].append(min(up, left))\n",
    "                    if up in e_table:\n",
    "                        e_table[left] = e_table[up]\n",
    "                    elif left in e_table:\n",
    "                        e_table[up] = e_table[left]\n",
    "                else:\n",
    "                    labels[row].append(count)\n",
    "                    e_table[count] = count\n",
    "                    count += 1\n",
    "    return labels, e_table"
   ]
  },
  {
   "cell_type": "markdown",
   "metadata": {},
   "source": [
    "<h4>Below function will correct the labels of connected component using equivalence table. Algorithm used to solve this is is called \"Disjoint Set (Or Union-Find)\". This algorithm are called recursively to update all the labels till the label key does become equal to it's value.</h4>\n",
    "<ul>Argument: It takes 2 arguments. First one is a matrix marked with label as int values. Second one is an equivalence table where mapping of all connected labels are kept.</ul>\n",
    "<ul>return: It return two values.  Count of the distict labels after correcting. count_map is the map of all corrected labels.</ul>"
   ]
  },
  {
   "cell_type": "code",
   "execution_count": 3,
   "metadata": {},
   "outputs": [],
   "source": [
    "def correct_labels(labels, e_table):\n",
    "    def update_label(e_table, label):\n",
    "        label = label if e_table[label] == label else update_label(e_table, e_table[label])\n",
    "        return label\n",
    "    \n",
    "    count = 0\n",
    "    label_map = {}\n",
    "    count_map = {}\n",
    "    for row in range(0, len(labels)):\n",
    "        for col in range(0, len(labels[row])):\n",
    "            if labels[row][col] > 0:\n",
    "                label = update_label(e_table, labels[row][col])\n",
    "                if not label in label_map:\n",
    "                    count += 1\n",
    "                    label_map[label] = count\n",
    "                    count_map[label_map[label]] = 1\n",
    "                count_map[label_map[label]] += 1\n",
    "                labels[row][col] = label_map[label]\n",
    "    return count, count_map"
   ]
  },
  {
   "cell_type": "markdown",
   "metadata": {},
   "source": [
    "<h4>Below code will remove the noise for a particular threshold in the image.</h4>\n",
    "<ul>Argument: It take 3 arguments. First one is the image labels matrix, Second one is the count map of those label means how many times each label are present in the label matrix, third one is the threshold value which is used to remove the nosie means any label whose count is less than this value will be reset to 0.</ul>\n",
    "<ul>Return: It return the number of label which has been reset to zero.</ul>"
   ]
  },
  {
   "cell_type": "code",
   "execution_count": 4,
   "metadata": {},
   "outputs": [],
   "source": [
    "def apply_filter(labels, count_map, threshold):\n",
    "    temp = set()\n",
    "    count = 0\n",
    "    for row in range(0, len(labels)):\n",
    "        for col in range(0, len(labels[row])):\n",
    "            if labels[row][col] != 0 and count_map[labels[row][col]] <= threshold:\n",
    "                temp.add(labels[row][col])\n",
    "                labels[row][col] = 0\n",
    "    return len(temp)"
   ]
  },
  {
   "cell_type": "markdown",
   "metadata": {},
   "source": [
    "<h4>Below function will just create image with updated labels value</h4>"
   ]
  },
  {
   "cell_type": "code",
   "execution_count": 5,
   "metadata": {},
   "outputs": [],
   "source": [
    "def create_result_image(labels, count, name):\n",
    "    cv2.imwrite(name + '.bmp', cv2.cvtColor(((np.array(labels)* 255 / count).astype(np.uint8)), cv2.COLOR_GRAY2BGR))"
   ]
  },
  {
   "cell_type": "markdown",
   "metadata": {},
   "source": [
    "<h4>Below function is the main function. It takes 3 arguments, first one is the path of image, second one is a boolean value to tell whether you want to remove noise or not (True in the case if you want to remove noise), third one is the threshold value for the noise. It perform below tasks:\n",
    "    <br>\n",
    "    <ol>1. Label the pixel in the image</ol>\n",
    "    <ol>2. Correct the label for the connected component</ol>\n",
    "    <ol>3. If filter flag (is_filter) is on then remove the noise from the image for a particular threshold value.</ol>\n",
    "</h4>"
   ]
  },
  {
   "cell_type": "code",
   "execution_count": 6,
   "metadata": {},
   "outputs": [],
   "source": [
    "def execute(image_path, is_filter, threshold):\n",
    "    labels, e_table = perform_CCL(cv2.imread(image_path,0))\n",
    "    count, count_map = correct_labels(labels, e_table)\n",
    "    if is_filter:\n",
    "        count -= apply_filter(labels, count_map, threshold)\n",
    "    return labels, count"
   ]
  },
  {
   "cell_type": "code",
   "execution_count": 7,
   "metadata": {},
   "outputs": [
    {
     "name": "stdout",
     "output_type": "stream",
     "text": [
      "Total number of connected component in test.bmp :  1\n"
     ]
    }
   ],
   "source": [
    "labels, num = execute('test.bmp', False, 0)\n",
    "print(\"Total number of connected component in test.bmp : \", num)\n",
    "create_result_image(labels, num, \"result_test\")"
   ]
  },
  {
   "cell_type": "code",
   "execution_count": 8,
   "metadata": {},
   "outputs": [
    {
     "name": "stdout",
     "output_type": "stream",
     "text": [
      "Total number of connected component in face.bmp :  6\n"
     ]
    }
   ],
   "source": [
    "labels, num = execute('face.bmp', False, 0)\n",
    "print(\"Total number of connected component in face.bmp : \", num)\n",
    "create_result_image(labels, num, \"result_face\")"
   ]
  },
  {
   "cell_type": "code",
   "execution_count": 9,
   "metadata": {},
   "outputs": [
    {
     "name": "stdout",
     "output_type": "stream",
     "text": [
      "Total number of connected component in gun.bmp :  4\n"
     ]
    }
   ],
   "source": [
    "labels, num = execute('gun.bmp', False, 0)\n",
    "print(\"Total number of connected component in gun.bmp : \", num)\n",
    "create_result_image(labels, num, \"result_gun\")"
   ]
  },
  {
   "cell_type": "code",
   "execution_count": 10,
   "metadata": {},
   "outputs": [
    {
     "name": "stdout",
     "output_type": "stream",
     "text": [
      "Total number of connected component in test.bmp without noise is :  1  : where threshold is :  50\n"
     ]
    }
   ],
   "source": [
    "labels, num = execute('test.bmp', True, 50)\n",
    "print(\"Total number of connected component in test.bmp without noise is : \", num, \" : where threshold is : \", 50)\n",
    "create_result_image(labels, num, \"result_filter_test\")"
   ]
  },
  {
   "cell_type": "code",
   "execution_count": 11,
   "metadata": {},
   "outputs": [
    {
     "name": "stdout",
     "output_type": "stream",
     "text": [
      "Total number of connected component in face.bmp without noise is :  6  : where threshold is :  50\n"
     ]
    }
   ],
   "source": [
    "labels, num = execute('face.bmp', True, 50)\n",
    "print(\"Total number of connected component in face.bmp without noise is : \", num, \" : where threshold is : \", 50)\n",
    "create_result_image(labels, num, \"result_filter_face\")"
   ]
  },
  {
   "cell_type": "code",
   "execution_count": 12,
   "metadata": {},
   "outputs": [
    {
     "name": "stdout",
     "output_type": "stream",
     "text": [
      "Total number of connected component in gun.bmp without noise is :  2  : where threshold is :  50\n"
     ]
    }
   ],
   "source": [
    "labels, num = execute('gun.bmp', True, 50)\n",
    "print(\"Total number of connected component in gun.bmp without noise is : \", num, \" : where threshold is : \", 50)\n",
    "create_result_image(labels, num, \"result_filter_gun\")"
   ]
  },
  {
   "cell_type": "code",
   "execution_count": null,
   "metadata": {},
   "outputs": [],
   "source": []
  }
 ],
 "metadata": {
  "kernelspec": {
   "display_name": "Python 3",
   "language": "python",
   "name": "python3"
  },
  "language_info": {
   "codemirror_mode": {
    "name": "ipython",
    "version": 3
   },
   "file_extension": ".py",
   "mimetype": "text/x-python",
   "name": "python",
   "nbconvert_exporter": "python",
   "pygments_lexer": "ipython3",
   "version": "3.7.3"
  }
 },
 "nbformat": 4,
 "nbformat_minor": 2
}
