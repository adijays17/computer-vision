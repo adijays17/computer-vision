{
 "cells": [
  {
   "cell_type": "code",
   "execution_count": 1,
   "metadata": {},
   "outputs": [],
   "source": [
    "import cv2\n",
    "import numpy as np\n",
    "import colorsys\n",
    "import matplotlib.pyplot as plt\n",
    "import math\n",
    "import sys"
   ]
  },
  {
   "cell_type": "code",
   "execution_count": 2,
   "metadata": {},
   "outputs": [],
   "source": [
    "def get_x_y(color_type, r,g,b):\n",
    "    if color_type == 0:\n",
    "        x,y,z = (math.floor(r/255.*10), math.floor(g/255.*10), math.floor(b/255.*10))\n",
    "    elif color_type == 1:\n",
    "        x,y,z = colorsys.rgb_to_hsv(math.floor(r/255.*10), math.floor(g/255.*10), math.floor(b/255.*10))\n",
    "    else:\n",
    "        s = r+g+b\n",
    "        x = math.floor(r / float(s) * 100)\n",
    "        y = math.floor(g / float(s) * 100)\n",
    "        z = math.floor(b / float(s) * 100)\n",
    "    return x, y"
   ]
  },
  {
   "cell_type": "code",
   "execution_count": 3,
   "metadata": {},
   "outputs": [],
   "source": [
    "def get_histogram(image_path, hist_dict, color_type):\n",
    "    image = cv2.imread(image_path, cv2.COLOR_RGB2BGR)\n",
    "    height, width, _ = image.shape\n",
    "    for row in range(height):\n",
    "        for col in range(width):\n",
    "            r,g,b = image[row, col]\n",
    "            x,y = get_x_y(color_type, r,g,b)\n",
    "            if not (x,y) in hist_dict:\n",
    "                hist_dict[(x,y)] = 1\n",
    "            else:\n",
    "                hist_dict[(x,y)] += 1\n",
    "    return hist_dict"
   ]
  },
  {
   "cell_type": "code",
   "execution_count": 4,
   "metadata": {},
   "outputs": [],
   "source": [
    "def train_model(image_paths, color_type):\n",
    "    hist_dict = {}\n",
    "    for image_path in image_paths:\n",
    "        hsv_dict = get_histogram(image_path, hist_dict, color_type)\n",
    "    return hsv_dict"
   ]
  },
  {
   "cell_type": "code",
   "execution_count": 5,
   "metadata": {},
   "outputs": [],
   "source": [
    "def normalize_histogram_sum(hist):\n",
    "    total = 0\n",
    "    for value in hist.values():\n",
    "        total += value\n",
    "    for key in hist.keys():\n",
    "        hist[key] /= float(total)\n",
    "    return hist"
   ]
  },
  {
   "cell_type": "code",
   "execution_count": 6,
   "metadata": {},
   "outputs": [],
   "source": [
    "def print_histogram(hist, name):\n",
    "    plt.bar(range(len(hist)), hist.values())\n",
    "    plt.title(name)\n",
    "    plt.savefig(name)\n",
    "    plt.clf()"
   ]
  },
  {
   "cell_type": "code",
   "execution_count": 7,
   "metadata": {},
   "outputs": [],
   "source": [
    "def create_result_image(image_array, name):\n",
    "    cv2.imwrite(name+\".bmp\", np.array(image_array))"
   ]
  },
  {
   "cell_type": "code",
   "execution_count": 209,
   "metadata": {},
   "outputs": [],
   "source": [
    "def color_segmentation(image, threshold, color_type):\n",
    "    image_paths = []\n",
    "    for i in range(1, 12):\n",
    "        image_path = 'training_skin_images/sample_' + str(i) + '.jpg'\n",
    "        image_paths.append(image_path)\n",
    "\n",
    "    hsv_dict = train_model(image_paths, color_type)\n",
    "    normalized_hsv_dict = normalize_histogram_sum(hsv_dict)\n",
    "    print_histogram(normalized_hsv_dict, 'area_hist_sum')\n",
    "    \n",
    "    image_data = cv2.imread(image, cv2.COLOR_RGB2BGR)\n",
    "    height, width, _= image_data.shape\n",
    "    new_image = [[0 for x in range(width)] for x in range(height)]\n",
    "    for row in range(height):\n",
    "        for col in range(width):\n",
    "            r,g,b = image_data[row, col]\n",
    "            x,y = get_x_y(color_type, r,g,b)\n",
    "            if (x,y) in normalized_hsv_dict and normalized_hsv_dict[(x,y)] > threshold:\n",
    "                new_image[row][col] = [r,g,b]\n",
    "            else:\n",
    "                new_image[row][col] = [0,0,0]\n",
    "    return new_image"
   ]
  },
  {
   "cell_type": "code",
   "execution_count": 210,
   "metadata": {},
   "outputs": [
    {
     "name": "stdout",
     "output_type": "stream",
     "text": [
      "result_pointer1\n"
     ]
    },
    {
     "data": {
      "text/plain": [
       "<Figure size 432x288 with 0 Axes>"
      ]
     },
     "metadata": {},
     "output_type": "display_data"
    }
   ],
   "source": [
    "image_path = \"pointer1.bmp\"\n",
    "threshold = 0\n",
    "color_type = 1\n",
    "image_array = color_segmentation(image_path, threshold, color_type)\n",
    "create_result_image(image_array, 'result_' + image_path.replace('.bmp', ''))"
   ]
  },
  {
   "cell_type": "code",
   "execution_count": 171,
   "metadata": {},
   "outputs": [
    {
     "data": {
      "text/plain": [
       "<Figure size 432x288 with 0 Axes>"
      ]
     },
     "metadata": {},
     "output_type": "display_data"
    }
   ],
   "source": [
    "image_path = \"joy1.bmp\"\n",
    "threshold = 0\n",
    "color_type = 1\n",
    "image_array = color_segmentation(image_path, threshold, color_type)\n",
    "create_result_image(image_array, 'result_' + image_path.replace('.bmp', ''))"
   ]
  },
  {
   "cell_type": "code",
   "execution_count": 172,
   "metadata": {},
   "outputs": [
    {
     "data": {
      "text/plain": [
       "<Figure size 432x288 with 0 Axes>"
      ]
     },
     "metadata": {},
     "output_type": "display_data"
    }
   ],
   "source": [
    "image_path = \"gun1.bmp\"\n",
    "threshold = 0\n",
    "color_type = 1\n",
    "image_array = color_segmentation(image_path, threshold, color_type)\n",
    "create_result_image(image_array, 'result_' + image_path.replace('.bmp', ''))"
   ]
  },
  {
   "cell_type": "code",
   "execution_count": null,
   "metadata": {},
   "outputs": [],
   "source": []
  },
  {
   "cell_type": "code",
   "execution_count": null,
   "metadata": {},
   "outputs": [],
   "source": []
  },
  {
   "cell_type": "code",
   "execution_count": null,
   "metadata": {},
   "outputs": [],
   "source": []
  }
 ],
 "metadata": {
  "kernelspec": {
   "display_name": "Python 3",
   "language": "python",
   "name": "python3"
  },
  "language_info": {
   "codemirror_mode": {
    "name": "ipython",
    "version": 3
   },
   "file_extension": ".py",
   "mimetype": "text/x-python",
   "name": "python",
   "nbconvert_exporter": "python",
   "pygments_lexer": "ipython3",
   "version": "3.7.3"
  }
 },
 "nbformat": 4,
 "nbformat_minor": 2
}
