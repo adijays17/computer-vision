{
 "cells": [
  {
   "cell_type": "markdown",
   "metadata": {},
   "source": [
    "<h1>MP4</h1>\n",
    "<h4> Submitted by: \n",
    "    <br>\n",
    "    Aditya Kumar\n",
    "    <br>\n",
    "     NETID: AKE9173</h4>"
   ]
  },
  {
   "cell_type": "markdown",
   "metadata": {},
   "source": [
    "<H4>Mandatory import</H4>"
   ]
  },
  {
   "cell_type": "code",
   "execution_count": 1,
   "metadata": {},
   "outputs": [],
   "source": [
    "import cv2\n",
    "import numpy as np\n",
    "import colorsys\n",
    "import matplotlib.pyplot as plt\n",
    "import math"
   ]
  },
  {
   "cell_type": "markdown",
   "metadata": {},
   "source": [
    "<H4>Utility function to perform math operation on r, g, b image</H4>"
   ]
  },
  {
   "cell_type": "code",
   "execution_count": 2,
   "metadata": {},
   "outputs": [],
   "source": [
    "def get_x_y(color_type, i, j, k):\n",
    "    if color_type == 'rgb':\n",
    "        x,y,z = (math.floor(i/255.*10), math.floor(j/255.*10), math.floor(k/255.*10))\n",
    "    elif color_type == 'hsv':\n",
    "        x = int((i/179)*10)\n",
    "        y = int((j/255)*10)\n",
    "    return x, y"
   ]
  },
  {
   "cell_type": "markdown",
   "metadata": {},
   "source": [
    "<H4>Utility function to calculate all histogram values on given training images.</H4>"
   ]
  },
  {
   "cell_type": "code",
   "execution_count": 3,
   "metadata": {},
   "outputs": [],
   "source": [
    "def get_histogram(image_path, hist_dict, color_type):\n",
    "    image = cv2.imread(image_path)\n",
    "    if color_type == 'hsv':\n",
    "        image = cv2.cvtColor(image, cv2.COLOR_BGR2HSV)\n",
    "    height, width, _ = image.shape\n",
    "    for row in range(height):\n",
    "        for col in range(width):\n",
    "            x = 0\n",
    "            y = 0\n",
    "            if color_type != 'hsv':\n",
    "                b,g,r = image[row, col]\n",
    "                x,y = get_x_y(color_type, r,g,b)\n",
    "            else:\n",
    "                h,s,v = image[row, col]\n",
    "                x,y = get_x_y(color_type, h,s,v)\n",
    "            if not (x,y) in hist_dict:\n",
    "                hist_dict[(x,y)] = 1\n",
    "            else:\n",
    "                hist_dict[(x,y)] += 1\n",
    "    return hist_dict"
   ]
  },
  {
   "cell_type": "markdown",
   "metadata": {},
   "source": [
    "<H4>Function to train the model on given training images and finding histogram values.</H4>"
   ]
  },
  {
   "cell_type": "code",
   "execution_count": 4,
   "metadata": {},
   "outputs": [],
   "source": [
    "def train(path, number_of_images, color_type):\n",
    "    hist_dict = {}\n",
    "    for i in range(1, number_of_images):\n",
    "        hsv_dict = get_histogram(path + str(i) + '.jpg', hist_dict, color_type)\n",
    "        \n",
    "    # Normalised\n",
    "    for key in hsv_dict.keys():\n",
    "        hsv_dict[key] /= float(sum(hsv_dict.values()))\n",
    "        \n",
    "    # Print Histogram\n",
    "    plt.bar(range(len(hsv_dict)), hsv_dict.values())\n",
    "    plt.title(\"Histogram_area_sum\")\n",
    "    plt.savefig(\"Histogram_area_sum\")\n",
    "    plt.clf()  \n",
    "    \n",
    "    return hsv_dict"
   ]
  },
  {
   "cell_type": "markdown",
   "metadata": {},
   "source": [
    "<H4>Main function to find the skin area in any image on the basis of trained histogram values.</H4>"
   ]
  },
  {
   "cell_type": "code",
   "execution_count": 5,
   "metadata": {},
   "outputs": [],
   "source": [
    "def skin_segmentation(image, dicti, threshold, color_type):\n",
    "    image_data = cv2.imread(image)\n",
    "    if color_type == 'hsv':\n",
    "        image_data = cv2.cvtColor(image_data, cv2.COLOR_BGR2HSV)\n",
    "    height, width, _= image_data.shape\n",
    "    new_image = [[0 for x in range(width)] for x in range(height)]\n",
    "    for row in range(height):\n",
    "        for col in range(width):\n",
    "            x = 0\n",
    "            y = 0\n",
    "            if color_type != 'hsv':\n",
    "                b,g,r = image_data[row, col]\n",
    "                x,y = get_x_y(color_type, r,g,b)\n",
    "            else:\n",
    "                h,s,v = image_data[row, col]\n",
    "                x,y = get_x_y(color_type, h,s,v)\n",
    "            if (x,y) in dicti and dicti[(x,y)] > threshold:\n",
    "                if color_type != 'hsv':\n",
    "                    new_image[row][col] = [b,g,r]\n",
    "                else:\n",
    "                    new_image[row][col] = [h,s,v]\n",
    "            else:\n",
    "                new_image[row][col] = [0,0,0]\n",
    "    return new_image"
   ]
  },
  {
   "cell_type": "markdown",
   "metadata": {},
   "source": [
    "<H4>Training the RGB model and saving the histogram values in a dictonary</H4>"
   ]
  },
  {
   "cell_type": "code",
   "execution_count": 6,
   "metadata": {},
   "outputs": [
    {
     "data": {
      "text/plain": [
       "<Figure size 432x288 with 0 Axes>"
      ]
     },
     "metadata": {},
     "output_type": "display_data"
    }
   ],
   "source": [
    "color_type = 'rgb'\n",
    "rgb_dict = train('training_skin_images/sample_', 15, color_type)"
   ]
  },
  {
   "cell_type": "code",
   "execution_count": 7,
   "metadata": {},
   "outputs": [
    {
     "data": {
      "text/plain": [
       "True"
      ]
     },
     "execution_count": 7,
     "metadata": {},
     "output_type": "execute_result"
    }
   ],
   "source": [
    "threshold = 0.01\n",
    "image_path = \"pointer1.bmp\"\n",
    "image_array = skin_segmentation(image_path, rgb_dict, threshold, color_type)\n",
    "cv2.imwrite('result_rgb_'+image_path, np.array(image_array))\n",
    "\n",
    "image_path = \"joy1.bmp\"\n",
    "image_array = skin_segmentation(image_path, rgb_dict, threshold, color_type)\n",
    "cv2.imwrite('result_rgb_'+image_path, np.array(image_array))\n",
    "\n",
    "image_path = \"gun1.bmp\"\n",
    "image_array = skin_segmentation(image_path, rgb_dict, threshold, color_type)\n",
    "cv2.imwrite('result_rgb_'+image_path, np.array(image_array))"
   ]
  },
  {
   "cell_type": "markdown",
   "metadata": {},
   "source": [
    "<H4>Training the HSV model and saving the histogram values in a dictonary</H4>"
   ]
  },
  {
   "cell_type": "code",
   "execution_count": 8,
   "metadata": {},
   "outputs": [
    {
     "data": {
      "text/plain": [
       "<Figure size 432x288 with 0 Axes>"
      ]
     },
     "metadata": {},
     "output_type": "display_data"
    }
   ],
   "source": [
    "color_type = 'hsv'\n",
    "hsv_dict = train('training_skin_images/sample_', 15, color_type)"
   ]
  },
  {
   "cell_type": "code",
   "execution_count": 9,
   "metadata": {},
   "outputs": [
    {
     "data": {
      "text/plain": [
       "True"
      ]
     },
     "execution_count": 9,
     "metadata": {},
     "output_type": "execute_result"
    }
   ],
   "source": [
    "threshold = 0.01 \n",
    "\n",
    "image_path = \"pointer1.bmp\"\n",
    "image_array = skin_segmentation(image_path, hsv_dict, threshold, color_type)\n",
    "cv2.imwrite('result_hsv_'+image_path, cv2.cvtColor(np.uint8(image_array), cv2.COLOR_HSV2BGR))\n",
    "\n",
    "image_path = \"joy1.bmp\"\n",
    "image_array = skin_segmentation(image_path, hsv_dict, threshold, color_type)\n",
    "cv2.imwrite('result_hsv_'+image_path, cv2.cvtColor(np.uint8(image_array), cv2.COLOR_HSV2BGR))\n",
    "\n",
    "image_path = \"gun1.bmp\"\n",
    "image_array = skin_segmentation(image_path, hsv_dict, threshold, color_type)\n",
    "cv2.imwrite('result_hsv_'+image_path, cv2.cvtColor(np.uint8(image_array), cv2.COLOR_HSV2BGR))"
   ]
  },
  {
   "cell_type": "code",
   "execution_count": null,
   "metadata": {},
   "outputs": [],
   "source": []
  },
  {
   "cell_type": "code",
   "execution_count": null,
   "metadata": {},
   "outputs": [],
   "source": []
  }
 ],
 "metadata": {
  "kernelspec": {
   "display_name": "Python 3",
   "language": "python",
   "name": "python3"
  },
  "language_info": {
   "codemirror_mode": {
    "name": "ipython",
    "version": 3
   },
   "file_extension": ".py",
   "mimetype": "text/x-python",
   "name": "python",
   "nbconvert_exporter": "python",
   "pygments_lexer": "ipython3",
   "version": "3.7.3"
  }
 },
 "nbformat": 4,
 "nbformat_minor": 2
}
