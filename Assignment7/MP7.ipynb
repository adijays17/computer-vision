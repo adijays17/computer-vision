{
 "cells": [
  {
   "cell_type": "code",
   "execution_count": 1,
   "metadata": {},
   "outputs": [],
   "source": [
    "import cv2\n",
    "import numpy as np\n",
    "import glob\n",
    "from scipy import signal"
   ]
  },
  {
   "cell_type": "code",
   "execution_count": 2,
   "metadata": {},
   "outputs": [],
   "source": [
    "def make_video(img_array, video_name):\n",
    "    height, width, layers = img_array[0].shape\n",
    "    size = (width,height)\n",
    "    out = cv2.VideoWriter(video_name+'.avi',cv2.VideoWriter_fourcc(*'DIVX'), 15, size)\n",
    "    for i in range(len(img_array)):\n",
    "        out.write(img_array[i])\n",
    "    out.release()"
   ]
  },
  {
   "cell_type": "code",
   "execution_count": 3,
   "metadata": {},
   "outputs": [],
   "source": [
    "def ssd(image, template):\n",
    "    reserve = image.copy()\n",
    "    h, w, _ = image.shape\n",
    "    k_h, k_w, _ = template.shape\n",
    "    ssd_scores = np.zeros((h - k_h, w - k_w))\n",
    "    image = np.array(image, dtype=\"float\")\n",
    "    template = np.array(template, dtype=\"float\")\n",
    "    for i in range(0, h - k_h):\n",
    "        for j in range(0, w - k_w):\n",
    "            score = (image[i:i + k_h, j:j + k_w] - template)**2\n",
    "            ssd_scores[i, j] = score.sum()\n",
    "    min_points = np.unravel_index(ssd_scores.argmin(), ssd_scores.shape)\n",
    "    return cv2.rectangle(reserve, (min_points[1], min_points[0]), (min_points[1]+k_w, min_points[0]+k_h), (0,0,255), 2)"
   ]
  },
  {
   "cell_type": "code",
   "execution_count": 4,
   "metadata": {},
   "outputs": [],
   "source": [
    "def ncc(image, template):\n",
    "    reserve = image.copy()    \n",
    "    h, w, _ = image.shape\n",
    "    k_h, k_w, _ = template.shape    \n",
    "    ncc_scores = np.zeros((h - k_h, w - k_w))    \n",
    "    image = np.array(image, dtype=\"float\")\n",
    "    template = np.array(template, dtype=\"float\")\n",
    "    \n",
    "    for i in range(0, h - k_h):\n",
    "        for j in range(0, w - k_w):\n",
    "            image_sub = image[i:i + k_h, j:j + k_w]\n",
    "            numerator = np.sum(image_sub * template)\n",
    "            denominator = np.sqrt( (np.sum(image_sub ** 2))) * np.sqrt(np.sum(template ** 2))\n",
    "            if(denominator == 0):\n",
    "                ncc_scores[i, j] = 0\n",
    "            else:\n",
    "                ncc_scores[i, j] = numerator / denominator\n",
    "                \n",
    "    min_points = np.unravel_index(ncc_scores.argmax(), ncc_scores.shape)\n",
    "    return cv2.rectangle(reserve, (min_points[1], min_points[0]), (min_points[1]+k_w, min_points[0]+k_h), (0,0,255), 2)"
   ]
  },
  {
   "cell_type": "code",
   "execution_count": 5,
   "metadata": {},
   "outputs": [],
   "source": [
    "def cc(image, template):\n",
    "    reserve = image.copy()\n",
    "\n",
    "    t_height, t_width, _ = template.shape\n",
    "\n",
    "    image = cv2.cvtColor(image, cv2.COLOR_RGB2GRAY)\n",
    "    template = cv2.cvtColor(template, cv2.COLOR_RGB2GRAY)\n",
    "\n",
    "    image = image.astype(np.float64)\n",
    "    template = template.astype(np.float64)\n",
    "\n",
    "    scores = signal.correlate2d(image, template, 'same')\n",
    "    i, j = np.unravel_index(scores.argmax(), scores.shape)\n",
    "    \n",
    "    return cv2.rectangle(reserve, (i, j), (i + t_height, j + t_width), (0,0,255), 2)"
   ]
  },
  {
   "cell_type": "code",
   "execution_count": 6,
   "metadata": {},
   "outputs": [],
   "source": [
    "temp = cv2.imread('template.jpg')\n",
    "ncc_arr = []\n",
    "ssd_arr = []\n",
    "cc_arr = []\n",
    "for filename in glob.glob('image_girl/*.jpg'):\n",
    "    img_1 = cv2.imread(filename)\n",
    "    ssd_arr.append(ssd(img_1, temp))\n",
    "    cc_arr.append(cc(img_1, temp))\n",
    "    ncc_arr.append(ncc(img_1, temp))"
   ]
  },
  {
   "cell_type": "code",
   "execution_count": 7,
   "metadata": {},
   "outputs": [],
   "source": [
    "make_video(ncc_arr, \"ncc\")\n",
    "make_video(ssd_arr, \"ssd\")\n",
    "make_video(cc_arr, \"cc\")"
   ]
  },
  {
   "cell_type": "code",
   "execution_count": 8,
   "metadata": {},
   "outputs": [
    {
     "data": {
      "text/plain": [
       "True"
      ]
     },
     "execution_count": 8,
     "metadata": {},
     "output_type": "execute_result"
    }
   ],
   "source": [
    "cv2.imwrite( \"ssd.jpg\",ssd_arr[0])\n",
    "cv2.imwrite( \"cc.jpg\",cc_arr[0])\n",
    "cv2.imwrite( \"ncc.jpg\",ncc_arr[0])"
   ]
  },
  {
   "cell_type": "code",
   "execution_count": null,
   "metadata": {},
   "outputs": [],
   "source": []
  }
 ],
 "metadata": {
  "kernelspec": {
   "display_name": "Python 3",
   "language": "python",
   "name": "python3"
  },
  "language_info": {
   "codemirror_mode": {
    "name": "ipython",
    "version": 3
   },
   "file_extension": ".py",
   "mimetype": "text/x-python",
   "name": "python",
   "nbconvert_exporter": "python",
   "pygments_lexer": "ipython3",
   "version": "3.7.3"
  }
 },
 "nbformat": 4,
 "nbformat_minor": 2
}
